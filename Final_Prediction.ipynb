{
  "cells": [
    {
      "cell_type": "code",
      "execution_count": null,
      "metadata": {
        "colab": {
          "base_uri": "https://localhost:8080/",
          "height": 162
        },
        "id": "x-mTAzne2rKs",
        "outputId": "20a2fb27-c7f4-45f9-b7af-797b03e0cd21"
      },
      "outputs": [
        {
          "output_type": "stream",
          "name": "stdout",
          "text": [
            "(12496, 13)\n"
          ]
        },
        {
          "output_type": "execute_result",
          "data": {
            "text/plain": [
              "  district_names  crop_year season_names crop_names  temperature  wind_speed  \\\n",
              "0     AHMEDNAGAR       1997  Autumn           Maize    20.770894    2.068260   \n",
              "1     AHMEDNAGAR       1997  Kharif       Arhar/Tur    20.160426    1.976480   \n",
              "2     AHMEDNAGAR       1997  Kharif           Bajra    21.998299    2.000524   \n",
              "\n",
              "      pressure   humidity soil_type      N    P    K        Yield  \n",
              "0  1014.863796  21.947147     loamy  56.07  0.0  0.0  1113.000000  \n",
              "1  1015.193528  20.643237     sandy   9.00  9.0  0.0     0.357955  \n",
              "2  1014.184607  21.422312      clay   0.00  0.0  0.0     0.557461  "
            ],
            "text/html": [
              "\n",
              "  <div id=\"df-f28d1dbf-f5a2-427c-bb40-bd6d37040c79\">\n",
              "    <div class=\"colab-df-container\">\n",
              "      <div>\n",
              "<style scoped>\n",
              "    .dataframe tbody tr th:only-of-type {\n",
              "        vertical-align: middle;\n",
              "    }\n",
              "\n",
              "    .dataframe tbody tr th {\n",
              "        vertical-align: top;\n",
              "    }\n",
              "\n",
              "    .dataframe thead th {\n",
              "        text-align: right;\n",
              "    }\n",
              "</style>\n",
              "<table border=\"1\" class=\"dataframe\">\n",
              "  <thead>\n",
              "    <tr style=\"text-align: right;\">\n",
              "      <th></th>\n",
              "      <th>district_names</th>\n",
              "      <th>crop_year</th>\n",
              "      <th>season_names</th>\n",
              "      <th>crop_names</th>\n",
              "      <th>temperature</th>\n",
              "      <th>wind_speed</th>\n",
              "      <th>pressure</th>\n",
              "      <th>humidity</th>\n",
              "      <th>soil_type</th>\n",
              "      <th>N</th>\n",
              "      <th>P</th>\n",
              "      <th>K</th>\n",
              "      <th>Yield</th>\n",
              "    </tr>\n",
              "  </thead>\n",
              "  <tbody>\n",
              "    <tr>\n",
              "      <th>0</th>\n",
              "      <td>AHMEDNAGAR</td>\n",
              "      <td>1997</td>\n",
              "      <td>Autumn</td>\n",
              "      <td>Maize</td>\n",
              "      <td>20.770894</td>\n",
              "      <td>2.068260</td>\n",
              "      <td>1014.863796</td>\n",
              "      <td>21.947147</td>\n",
              "      <td>loamy</td>\n",
              "      <td>56.07</td>\n",
              "      <td>0.0</td>\n",
              "      <td>0.0</td>\n",
              "      <td>1113.000000</td>\n",
              "    </tr>\n",
              "    <tr>\n",
              "      <th>1</th>\n",
              "      <td>AHMEDNAGAR</td>\n",
              "      <td>1997</td>\n",
              "      <td>Kharif</td>\n",
              "      <td>Arhar/Tur</td>\n",
              "      <td>20.160426</td>\n",
              "      <td>1.976480</td>\n",
              "      <td>1015.193528</td>\n",
              "      <td>20.643237</td>\n",
              "      <td>sandy</td>\n",
              "      <td>9.00</td>\n",
              "      <td>9.0</td>\n",
              "      <td>0.0</td>\n",
              "      <td>0.357955</td>\n",
              "    </tr>\n",
              "    <tr>\n",
              "      <th>2</th>\n",
              "      <td>AHMEDNAGAR</td>\n",
              "      <td>1997</td>\n",
              "      <td>Kharif</td>\n",
              "      <td>Bajra</td>\n",
              "      <td>21.998299</td>\n",
              "      <td>2.000524</td>\n",
              "      <td>1014.184607</td>\n",
              "      <td>21.422312</td>\n",
              "      <td>clay</td>\n",
              "      <td>0.00</td>\n",
              "      <td>0.0</td>\n",
              "      <td>0.0</td>\n",
              "      <td>0.557461</td>\n",
              "    </tr>\n",
              "  </tbody>\n",
              "</table>\n",
              "</div>\n",
              "      <button class=\"colab-df-convert\" onclick=\"convertToInteractive('df-f28d1dbf-f5a2-427c-bb40-bd6d37040c79')\"\n",
              "              title=\"Convert this dataframe to an interactive table.\"\n",
              "              style=\"display:none;\">\n",
              "        \n",
              "  <svg xmlns=\"http://www.w3.org/2000/svg\" height=\"24px\"viewBox=\"0 0 24 24\"\n",
              "       width=\"24px\">\n",
              "    <path d=\"M0 0h24v24H0V0z\" fill=\"none\"/>\n",
              "    <path d=\"M18.56 5.44l.94 2.06.94-2.06 2.06-.94-2.06-.94-.94-2.06-.94 2.06-2.06.94zm-11 1L8.5 8.5l.94-2.06 2.06-.94-2.06-.94L8.5 2.5l-.94 2.06-2.06.94zm10 10l.94 2.06.94-2.06 2.06-.94-2.06-.94-.94-2.06-.94 2.06-2.06.94z\"/><path d=\"M17.41 7.96l-1.37-1.37c-.4-.4-.92-.59-1.43-.59-.52 0-1.04.2-1.43.59L10.3 9.45l-7.72 7.72c-.78.78-.78 2.05 0 2.83L4 21.41c.39.39.9.59 1.41.59.51 0 1.02-.2 1.41-.59l7.78-7.78 2.81-2.81c.8-.78.8-2.07 0-2.86zM5.41 20L4 18.59l7.72-7.72 1.47 1.35L5.41 20z\"/>\n",
              "  </svg>\n",
              "      </button>\n",
              "      \n",
              "  <style>\n",
              "    .colab-df-container {\n",
              "      display:flex;\n",
              "      flex-wrap:wrap;\n",
              "      gap: 12px;\n",
              "    }\n",
              "\n",
              "    .colab-df-convert {\n",
              "      background-color: #E8F0FE;\n",
              "      border: none;\n",
              "      border-radius: 50%;\n",
              "      cursor: pointer;\n",
              "      display: none;\n",
              "      fill: #1967D2;\n",
              "      height: 32px;\n",
              "      padding: 0 0 0 0;\n",
              "      width: 32px;\n",
              "    }\n",
              "\n",
              "    .colab-df-convert:hover {\n",
              "      background-color: #E2EBFA;\n",
              "      box-shadow: 0px 1px 2px rgba(60, 64, 67, 0.3), 0px 1px 3px 1px rgba(60, 64, 67, 0.15);\n",
              "      fill: #174EA6;\n",
              "    }\n",
              "\n",
              "    [theme=dark] .colab-df-convert {\n",
              "      background-color: #3B4455;\n",
              "      fill: #D2E3FC;\n",
              "    }\n",
              "\n",
              "    [theme=dark] .colab-df-convert:hover {\n",
              "      background-color: #434B5C;\n",
              "      box-shadow: 0px 1px 3px 1px rgba(0, 0, 0, 0.15);\n",
              "      filter: drop-shadow(0px 1px 2px rgba(0, 0, 0, 0.3));\n",
              "      fill: #FFFFFF;\n",
              "    }\n",
              "  </style>\n",
              "\n",
              "      <script>\n",
              "        const buttonEl =\n",
              "          document.querySelector('#df-f28d1dbf-f5a2-427c-bb40-bd6d37040c79 button.colab-df-convert');\n",
              "        buttonEl.style.display =\n",
              "          google.colab.kernel.accessAllowed ? 'block' : 'none';\n",
              "\n",
              "        async function convertToInteractive(key) {\n",
              "          const element = document.querySelector('#df-f28d1dbf-f5a2-427c-bb40-bd6d37040c79');\n",
              "          const dataTable =\n",
              "            await google.colab.kernel.invokeFunction('convertToInteractive',\n",
              "                                                     [key], {});\n",
              "          if (!dataTable) return;\n",
              "\n",
              "          const docLinkHtml = 'Like what you see? Visit the ' +\n",
              "            '<a target=\"_blank\" href=https://colab.research.google.com/notebooks/data_table.ipynb>data table notebook</a>'\n",
              "            + ' to learn more about interactive tables.';\n",
              "          element.innerHTML = '';\n",
              "          dataTable['output_type'] = 'display_data';\n",
              "          await google.colab.output.renderOutput(dataTable, element);\n",
              "          const docLink = document.createElement('div');\n",
              "          docLink.innerHTML = docLinkHtml;\n",
              "          element.appendChild(docLink);\n",
              "        }\n",
              "      </script>\n",
              "    </div>\n",
              "  </div>\n",
              "  "
            ]
          },
          "metadata": {},
          "execution_count": 1
        }
      ],
      "source": [
        "import pandas as pd\n",
        "import numpy as np\n",
        "import matplotlib.pyplot as plt\n",
        "from sklearn.model_selection import train_test_split\n",
        "from sklearn.metrics import r2_score\n",
        "from sklearn.metrics import mean_absolute_error as mae\n",
        "from sklearn.metrics import mean_squared_error as mse\n",
        "from sklearn.ensemble import RandomForestRegressor, AdaBoostRegressor, GradientBoostingRegressor, VotingRegressor, StackingRegressor\n",
        "import pickle\n",
        "\n",
        "df = pd.read_csv(\"finalised_dataset.csv\")\n",
        "to_drop = [\"Unnamed: 0\", \"state_names\", \"production\", \"area\"]\n",
        "df.drop(to_drop, axis=\"columns\", inplace=True)\n",
        "df.dropna(axis=\"rows\", inplace=True)\n",
        "print(df.shape)\n",
        "df.head(3)"
      ]
    },
    {
      "cell_type": "markdown",
      "metadata": {
        "id": "IP466C9u2rKx"
      },
      "source": [
        "-----------------------------------------"
      ]
    },
    {
      "cell_type": "markdown",
      "metadata": {
        "id": "AUkW87HH2rKz"
      },
      "source": [
        "------------------------------------------------------------------"
      ]
    },
    {
      "cell_type": "markdown",
      "metadata": {
        "id": "gZJQ-rix2rK1"
      },
      "source": [
        "-----------------------------------"
      ]
    },
    {
      "cell_type": "markdown",
      "metadata": {
        "id": "68m7P1d1KtmM"
      },
      "source": [
        "# Analysis of Dataset"
      ]
    },
    {
      "cell_type": "markdown",
      "metadata": {
        "id": "zBzVgXVs2rK2"
      },
      "source": [
        "### Analysis of average crop Yield Year-wise"
      ]
    },
    {
      "cell_type": "code",
      "execution_count": null,
      "metadata": {
        "colab": {
          "base_uri": "https://localhost:8080/"
        },
        "id": "1CNStyZX2rK2",
        "outputId": "88f3ea26-8d0d-4b32-9ad3-b56d82978793"
      },
      "outputs": [
        {
          "output_type": "execute_result",
          "data": {
            "text/plain": [
              "crop_year\n",
              "1997    22.341557\n",
              "1998     3.415268\n",
              "1999     3.519748\n",
              "2000     3.262697\n",
              "2001     3.083085\n",
              "2002     2.914333\n",
              "2003     5.138871\n",
              "2004     2.893499\n",
              "2005     3.677714\n",
              "2006     0.899084\n",
              "2007     4.014252\n",
              "2008     6.306082\n",
              "2009     4.243727\n",
              "2010     4.205582\n",
              "2011     3.863737\n",
              "2012     3.560567\n",
              "2013     4.440736\n",
              "2014     4.428971\n",
              "Name: Yield, dtype: float64"
            ]
          },
          "metadata": {},
          "execution_count": 2
        }
      ],
      "source": [
        "df.groupby(by='crop_year').mean()['Yield']"
      ]
    },
    {
      "cell_type": "code",
      "execution_count": null,
      "metadata": {
        "colab": {
          "base_uri": "https://localhost:8080/",
          "height": 390
        },
        "id": "QS89q4-C2rK3",
        "outputId": "0a35bdfa-43f5-4938-8b96-2f8903356610"
      },
      "outputs": [
        {
          "output_type": "display_data",
          "data": {
            "text/plain": [
              "<Figure size 720x432 with 1 Axes>"
            ],
            "image/png": "[encoded data removed]"
          },
          "metadata": {
            "needs_background": "light"
          }
        }
      ],
      "source": [
        "x=df['crop_year'].unique().tolist()\n",
        "y = pd.DataFrame(df.groupby(by='crop_year').mean())['Yield'].values.ravel()\n",
        "f = plt.figure()\n",
        "f.set_figwidth(10)\n",
        "f.set_figheight(6)\n",
        "plt.bar(range(len(x)), y, tick_label=x, color=[\n",
        "        'purple', 'red', 'blue', 'green', 'pink', 'cyan', 'orange', 'yellow', 'navy', 'brown'])\n",
        "plt.title(\"Year Wise average yield\")\n",
        "plt.show()\n"
      ]
    },
    {
      "cell_type": "markdown",
      "metadata": {
        "id": "oQSTyl8s8pJM"
      },
      "source": [
        "1997 data is an outlier, hence dropping it"
      ]
    },
    {
      "cell_type": "code",
      "execution_count": null,
      "metadata": {
        "id": "jrC7nWf_8u-A"
      },
      "outputs": [],
      "source": [
        "df=df.query('crop_year>1997')"
      ]
    },
    {
      "cell_type": "markdown",
      "metadata": {
        "id": "mu-_k0pu2rK4"
      },
      "source": [
        "---------------------"
      ]
    },
    {
      "cell_type": "markdown",
      "metadata": {
        "id": "7ZyP4ZPi2rK5"
      },
      "source": [
        "--------------------"
      ]
    },
    {
      "cell_type": "markdown",
      "metadata": {
        "id": "y_TzdQ6b2rK6"
      },
      "source": [
        "### Analysis of each categorical variable's average yield"
      ]
    },
    {
      "cell_type": "markdown",
      "metadata": {
        "id": "IsD9Hx1W2rK6"
      },
      "source": [
        "#### District"
      ]
    },
    {
      "cell_type": "code",
      "execution_count": null,
      "metadata": {
        "colab": {
          "base_uri": "https://localhost:8080/",
          "height": 716
        },
        "id": "CCu1Fi6x2rK6",
        "outputId": "ca16fa02-a2e3-4f1c-8824-cb584d12e1c6"
      },
      "outputs": [
        {
          "output_type": "display_data",
          "data": {
            "text/plain": [
              "<Figure size 1008x864 with 1 Axes>"
            ],
            "image/png": "[encoded data removed]"
          },
          "metadata": {
            "needs_background": "light"
          }
        }
      ],
      "source": [
        "x=df['district_names'].unique().tolist()\n",
        "y = pd.DataFrame(df.groupby(by='district_names').mean())[\n",
        "    'Yield'].values.ravel()\n",
        "f = plt.figure()\n",
        "f.set_figwidth(14)\n",
        "f.set_figheight(12)\n",
        "plt.barh(range(len(x)), y, tick_label=x, color=[\n",
        "        'purple', 'red', 'blue', 'green', 'pink', 'cyan', 'orange', 'yellow', 'navy', 'brown'])\n",
        "plt.title(\"District Wise average yield\")\n",
        "plt.show()\n"
      ]
    },
    {
      "cell_type": "markdown",
      "metadata": {
        "id": "NNef32j92rK7"
      },
      "source": [
        "#### Crop Name"
      ]
    },
    {
      "cell_type": "code",
      "execution_count": null,
      "metadata": {
        "colab": {
          "base_uri": "https://localhost:8080/",
          "height": 514
        },
        "id": "1fjKuiVF2rK7",
        "outputId": "991fdf15-0e40-4095-ddf6-64b04f862cf0"
      },
      "outputs": [
        {
          "output_type": "display_data",
          "data": {
            "text/plain": [
              "<Figure size 720x504 with 1 Axes>"
            ],
            "image/png": "[encoded data removed]"
          },
          "metadata": {}
        }
      ],
      "source": [
        "colors=[\"#FF0000\",\"#0000FF\",\"#006400\",\"#FF6600\",\"#FFFFFF\",\"#000000\",\"#FFFF00\",\"#A020F0\",\n",
        "        \"#C0C0C0\",\"#964B00\",\"#808080\",\"#FFC0CB\",\"#808000\",\"#800000\",\"#8F00FF\",\"#36454F\",\n",
        "        \"#FF00FF\",\"#CD7F32\",\"#FFFDD0\",\"#FFD700\",\"#D2B48C\",\"#008080\",\"#FFDB58\",\"#000080\"]\n",
        "x = pd.DataFrame(df.groupby(by='crop_names').mean()['Yield'].sort_values(ascending=False)).index.to_list()\n",
        "y = pd.DataFrame(df.groupby(by='crop_names').mean())[\n",
        "    'Yield'].sort_values(ascending=False).to_list()\n",
        "fig, ax = plt.subplots(figsize=(10, 7))\n",
        "patches, texts=ax.pie(y, colors=colors)\n",
        "ax.legend(patches, x, loc=\"right\", bbox_to_anchor=(1.35, 0.5))\n",
        "plt.title(\"Crop wise average Yield\")\n",
        "plt.show()\n"
      ]
    },
    {
      "cell_type": "markdown",
      "metadata": {
        "id": "5htiq4262rK8"
      },
      "source": [
        "#### Season"
      ]
    },
    {
      "cell_type": "code",
      "execution_count": null,
      "metadata": {
        "colab": {
          "base_uri": "https://localhost:8080/",
          "height": 444
        },
        "id": "rNmXSzV82rK8",
        "outputId": "ddbba307-213b-4065-c01d-317e8cb7828d"
      },
      "outputs": [
        {
          "output_type": "display_data",
          "data": {
            "text/plain": [
              "<Figure size 720x504 with 1 Axes>"
            ],
            "image/png": "[encoded data removed]"
          },
          "metadata": {
            "needs_background": "light"
          }
        }
      ],
      "source": [
        "x = df['season_names'].unique().tolist()\n",
        "y = pd.DataFrame(df.groupby(by='season_names').mean())[\n",
        "    'Yield'].values.ravel()\n",
        "f = plt.figure()\n",
        "f.set_figwidth(10)\n",
        "f.set_figheight(7)\n",
        "plt.bar(range(len(x)), y, tick_label=x, color=[\n",
        "        'purple', 'red', 'blue', 'green', 'pink', 'cyan', 'orange', 'yellow', 'navy', 'brown'])\n",
        "plt.title(\"Season Wise average yield\")\n",
        "plt.show()\n"
      ]
    },
    {
      "cell_type": "markdown",
      "metadata": {
        "id": "izq_AiZF2rK9"
      },
      "source": [
        "#### Soil type"
      ]
    },
    {
      "cell_type": "code",
      "execution_count": null,
      "metadata": {
        "colab": {
          "base_uri": "https://localhost:8080/",
          "height": 444
        },
        "id": "7SICErKO2rK9",
        "outputId": "25069bb3-fcab-45e5-f0dc-c1b1de1a5e9b"
      },
      "outputs": [
        {
          "output_type": "display_data",
          "data": {
            "text/plain": [
              "<Figure size 720x504 with 1 Axes>"
            ],
            "image/png": "[encoded data removed]"
          },
          "metadata": {
            "needs_background": "light"
          }
        }
      ],
      "source": [
        "x = df['soil_type'].unique().tolist()\n",
        "y = pd.DataFrame(df.groupby(by='soil_type').mean())[\n",
        "    'Yield'].values.ravel()\n",
        "f = plt.figure()\n",
        "f.set_figwidth(10)\n",
        "f.set_figheight(7)\n",
        "plt.bar(range(len(x)), y, tick_label=x, color=[\n",
        "        'purple', 'red', 'blue', 'green', 'pink', 'cyan', 'orange', 'yellow', 'navy', 'brown'])\n",
        "plt.title(\"Season Wise average yield\")\n",
        "plt.show()\n"
      ]
    },
    {
      "cell_type": "markdown",
      "metadata": {
        "id": "UWFMyBQf2rK-"
      },
      "source": [
        "---------------------"
      ]
    },
    {
      "cell_type": "markdown",
      "metadata": {
        "id": "3deSwoqJ2rK-"
      },
      "source": [
        "-----------------------------------"
      ]
    },
    {
      "cell_type": "markdown",
      "metadata": {
        "id": "oU0cavdD2rK-"
      },
      "source": [
        "### Correlation Analysis"
      ]
    },
    {
      "cell_type": "code",
      "execution_count": null,
      "metadata": {
        "colab": {
          "base_uri": "https://localhost:8080/"
        },
        "id": "r4D45hEm2rK_",
        "outputId": "caa92d71-6544-455e-b3a7-442292a3793d"
      },
      "outputs": [
        {
          "output_type": "execute_result",
          "data": {
            "text/plain": [
              "Yield          1.000000\n",
              "crop_year      0.023364\n",
              "N              0.017335\n",
              "humidity       0.011367\n",
              "P              0.006495\n",
              "pressure       0.003366\n",
              "wind_speed    -0.001928\n",
              "K             -0.003738\n",
              "temperature   -0.004264\n",
              "Name: Yield, dtype: float64"
            ]
          },
          "metadata": {},
          "execution_count": 9
        }
      ],
      "source": [
        "correlation = df.corr()\n",
        "correlation['Yield'].sort_values(ascending=False)"
      ]
    },
    {
      "cell_type": "code",
      "execution_count": null,
      "metadata": {
        "colab": {
          "base_uri": "https://localhost:8080/",
          "height": 506
        },
        "id": "_H6q2CWZ2rK_",
        "outputId": "9ed9b171-30fd-4285-9810-2b22b9d77d1f"
      },
      "outputs": [
        {
          "output_type": "execute_result",
          "data": {
            "text/plain": [
              "<matplotlib.axes._subplots.AxesSubplot at 0x7f867e03c950>"
            ]
          },
          "metadata": {},
          "execution_count": 10
        },
        {
          "output_type": "display_data",
          "data": {
            "text/plain": [
              "<Figure size 1080x576 with 2 Axes>"
            ],
            "image/png": "[encoded data removed]"
          },
          "metadata": {
            "needs_background": "light"
          }
        }
      ],
      "source": [
        "import seaborn as sns\n",
        "plt.figure(figsize=(15, 8))\n",
        "sns.heatmap(correlation)\n"
      ]
    },
    {
      "cell_type": "markdown",
      "metadata": {
        "id": "E48YL9qj2rK_"
      },
      "source": [
        "-----------------------------"
      ]
    },
    {
      "cell_type": "markdown",
      "metadata": {
        "id": "kbsyRf1n2rLA"
      },
      "source": [
        "-------------------"
      ]
    },
    {
      "cell_type": "markdown",
      "metadata": {
        "id": "SJV0RDkc2rLA"
      },
      "source": [
        "----------------------"
      ]
    },
    {
      "cell_type": "markdown",
      "metadata": {
        "id": "q6RvWpNEKgQY"
      },
      "source": [
        "# Prediction Task"
      ]
    },
    {
      "cell_type": "code",
      "execution_count": null,
      "metadata": {
        "colab": {
          "base_uri": "https://localhost:8080/",
          "height": 112
        },
        "id": "HnlAtsHz2rLA",
        "outputId": "bc1c6862-7dfa-466d-f65d-d4222aa57cfe"
      },
      "outputs": [
        {
          "output_type": "execute_result",
          "data": {
            "text/plain": [
              "   district_names  crop_year season_names crop_names  temperature  wind_speed  \\\n",
              "19     AHMEDNAGAR       1998  Kharif       Arhar/Tur    20.692897    2.087618   \n",
              "20     AHMEDNAGAR       1998  Kharif           Bajra    20.988835    2.077557   \n",
              "\n",
              "       pressure   humidity soil_type      N       P      K     Yield  \n",
              "19  1014.739862  21.949998     silty  38.25  38.250  38.25  0.515957  \n",
              "20  1014.940241  20.615412      clay   0.00  26.832   0.00  0.806548  "
            ],
            "text/html": [
              "\n",
              "  <div id=\"df-e2615d75-1bdd-4250-947d-3328c6f1bf14\">\n",
              "    <div class=\"colab-df-container\">\n",
              "      <div>\n",
              "<style scoped>\n",
              "    .dataframe tbody tr th:only-of-type {\n",
              "        vertical-align: middle;\n",
              "    }\n",
              "\n",
              "    .dataframe tbody tr th {\n",
              "        vertical-align: top;\n",
              "    }\n",
              "\n",
              "    .dataframe thead th {\n",
              "        text-align: right;\n",
              "    }\n",
              "</style>\n",
              "<table border=\"1\" class=\"dataframe\">\n",
              "  <thead>\n",
              "    <tr style=\"text-align: right;\">\n",
              "      <th></th>\n",
              "      <th>district_names</th>\n",
              "      <th>crop_year</th>\n",
              "      <th>season_names</th>\n",
              "      <th>crop_names</th>\n",
              "      <th>temperature</th>\n",
              "      <th>wind_speed</th>\n",
              "      <th>pressure</th>\n",
              "      <th>humidity</th>\n",
              "      <th>soil_type</th>\n",
              "      <th>N</th>\n",
              "      <th>P</th>\n",
              "      <th>K</th>\n",
              "      <th>Yield</th>\n",
              "    </tr>\n",
              "  </thead>\n",
              "  <tbody>\n",
              "    <tr>\n",
              "      <th>19</th>\n",
              "      <td>AHMEDNAGAR</td>\n",
              "      <td>1998</td>\n",
              "      <td>Kharif</td>\n",
              "      <td>Arhar/Tur</td>\n",
              "      <td>20.692897</td>\n",
              "      <td>2.087618</td>\n",
              "      <td>1014.739862</td>\n",
              "      <td>21.949998</td>\n",
              "      <td>silty</td>\n",
              "      <td>38.25</td>\n",
              "      <td>38.250</td>\n",
              "      <td>38.25</td>\n",
              "      <td>0.515957</td>\n",
              "    </tr>\n",
              "    <tr>\n",
              "      <th>20</th>\n",
              "      <td>AHMEDNAGAR</td>\n",
              "      <td>1998</td>\n",
              "      <td>Kharif</td>\n",
              "      <td>Bajra</td>\n",
              "      <td>20.988835</td>\n",
              "      <td>2.077557</td>\n",
              "      <td>1014.940241</td>\n",
              "      <td>20.615412</td>\n",
              "      <td>clay</td>\n",
              "      <td>0.00</td>\n",
              "      <td>26.832</td>\n",
              "      <td>0.00</td>\n",
              "      <td>0.806548</td>\n",
              "    </tr>\n",
              "  </tbody>\n",
              "</table>\n",
              "</div>\n",
              "      <button class=\"colab-df-convert\" onclick=\"convertToInteractive('df-e2615d75-1bdd-4250-947d-3328c6f1bf14')\"\n",
              "              title=\"Convert this dataframe to an interactive table.\"\n",
              "              style=\"display:none;\">\n",
              "        \n",
              "  <svg xmlns=\"http://www.w3.org/2000/svg\" height=\"24px\"viewBox=\"0 0 24 24\"\n",
              "       width=\"24px\">\n",
              "    <path d=\"M0 0h24v24H0V0z\" fill=\"none\"/>\n",
              "    <path d=\"M18.56 5.44l.94 2.06.94-2.06 2.06-.94-2.06-.94-.94-2.06-.94 2.06-2.06.94zm-11 1L8.5 8.5l.94-2.06 2.06-.94-2.06-.94L8.5 2.5l-.94 2.06-2.06.94zm10 10l.94 2.06.94-2.06 2.06-.94-2.06-.94-.94-2.06-.94 2.06-2.06.94z\"/><path d=\"M17.41 7.96l-1.37-1.37c-.4-.4-.92-.59-1.43-.59-.52 0-1.04.2-1.43.59L10.3 9.45l-7.72 7.72c-.78.78-.78 2.05 0 2.83L4 21.41c.39.39.9.59 1.41.59.51 0 1.02-.2 1.41-.59l7.78-7.78 2.81-2.81c.8-.78.8-2.07 0-2.86zM5.41 20L4 18.59l7.72-7.72 1.47 1.35L5.41 20z\"/>\n",
              "  </svg>\n",
              "      </button>\n",
              "      \n",
              "  <style>\n",
              "    .colab-df-container {\n",
              "      display:flex;\n",
              "      flex-wrap:wrap;\n",
              "      gap: 12px;\n",
              "    }\n",
              "\n",
              "    .colab-df-convert {\n",
              "      background-color: #E8F0FE;\n",
              "      border: none;\n",
              "      border-radius: 50%;\n",
              "      cursor: pointer;\n",
              "      display: none;\n",
              "      fill: #1967D2;\n",
              "      height: 32px;\n",
              "      padding: 0 0 0 0;\n",
              "      width: 32px;\n",
              "    }\n",
              "\n",
              "    .colab-df-convert:hover {\n",
              "      background-color: #E2EBFA;\n",
              "      box-shadow: 0px 1px 2px rgba(60, 64, 67, 0.3), 0px 1px 3px 1px rgba(60, 64, 67, 0.15);\n",
              "      fill: #174EA6;\n",
              "    }\n",
              "\n",
              "    [theme=dark] .colab-df-convert {\n",
              "      background-color: #3B4455;\n",
              "      fill: #D2E3FC;\n",
              "    }\n",
              "\n",
              "    [theme=dark] .colab-df-convert:hover {\n",
              "      background-color: #434B5C;\n",
              "      box-shadow: 0px 1px 3px 1px rgba(0, 0, 0, 0.15);\n",
              "      filter: drop-shadow(0px 1px 2px rgba(0, 0, 0, 0.3));\n",
              "      fill: #FFFFFF;\n",
              "    }\n",
              "  </style>\n",
              "\n",
              "      <script>\n",
              "        const buttonEl =\n",
              "          document.querySelector('#df-e2615d75-1bdd-4250-947d-3328c6f1bf14 button.colab-df-convert');\n",
              "        buttonEl.style.display =\n",
              "          google.colab.kernel.accessAllowed ? 'block' : 'none';\n",
              "\n",
              "        async function convertToInteractive(key) {\n",
              "          const element = document.querySelector('#df-e2615d75-1bdd-4250-947d-3328c6f1bf14');\n",
              "          const dataTable =\n",
              "            await google.colab.kernel.invokeFunction('convertToInteractive',\n",
              "                                                     [key], {});\n",
              "          if (!dataTable) return;\n",
              "\n",
              "          const docLinkHtml = 'Like what you see? Visit the ' +\n",
              "            '<a target=\"_blank\" href=https://colab.research.google.com/notebooks/data_table.ipynb>data table notebook</a>'\n",
              "            + ' to learn more about interactive tables.';\n",
              "          element.innerHTML = '';\n",
              "          dataTable['output_type'] = 'display_data';\n",
              "          await google.colab.output.renderOutput(dataTable, element);\n",
              "          const docLink = document.createElement('div');\n",
              "          docLink.innerHTML = docLinkHtml;\n",
              "          element.appendChild(docLink);\n",
              "        }\n",
              "      </script>\n",
              "    </div>\n",
              "  </div>\n",
              "  "
            ]
          },
          "metadata": {},
          "execution_count": 11
        }
      ],
      "source": [
        "df.head(2)"
      ]
    },
    {
      "cell_type": "code",
      "execution_count": null,
      "metadata": {
        "id": "vs5XXc8V2rLA",
        "colab": {
          "base_uri": "https://localhost:8080/"
        },
        "outputId": "5df59b8a-455f-40aa-8fb7-38eda6a7b699"
      },
      "outputs": [
        {
          "output_type": "execute_result",
          "data": {
            "text/plain": [
              "['district_names',\n",
              " 'crop_year',\n",
              " 'season_names',\n",
              " 'crop_names',\n",
              " 'temperature',\n",
              " 'wind_speed',\n",
              " 'pressure',\n",
              " 'humidity',\n",
              " 'soil_type',\n",
              " 'N',\n",
              " 'P',\n",
              " 'K']"
            ]
          },
          "metadata": {},
          "execution_count": 12
        }
      ],
      "source": [
        "features_4=df.columns.to_list()[0:4]          #primary features\n",
        "features_8=df.columns.to_list()[0:8]          #primary features + weather features\n",
        "features_12=df.columns.to_list()[0:12]        #primary features + weather features + soil features\n",
        "features_to_train=[features_4, features_8, features_12]\n",
        "features_to_train[2]"
      ]
    },
    {
      "cell_type": "markdown",
      "metadata": {
        "id": "IyRbS2dMNFuT"
      },
      "source": [
        "------------------------------"
      ]
    },
    {
      "cell_type": "code",
      "execution_count": null,
      "metadata": {
        "id": "aHbu7Kmtve5O"
      },
      "outputs": [],
      "source": [
        "X_train_list=[]\n",
        "X_test_list=[]\n",
        "\n",
        "y_train_list=[]\n",
        "y_test_list=[]\n",
        "\n",
        "for i in range(0,3):\n",
        "    #defining independant and dependant variables\n",
        "    X = df.loc[:, features_to_train[i]]\n",
        "    y = df.loc[:, ['Yield']]\n",
        "\n",
        "    #Categorical Variables treatment\n",
        "    X = pd.get_dummies(X)\n",
        "\n",
        "    #train_test split\n",
        "    X_train, X_test, y_train, y_test = train_test_split(\n",
        "        X, y, test_size=0.3, random_state=1)\n",
        "    X_train_list.append(X_train)\n",
        "    X_test_list.append(X_test)\n",
        "    y_train_list.append(y_train)\n",
        "    y_test_list.append(y_test)\n",
        "\n"
      ]
    },
    {
      "cell_type": "markdown",
      "metadata": {
        "id": "czSEtg54XFOR"
      },
      "source": [
        "Trying 3 major"
      ]
    },
    {
      "cell_type": "code",
      "execution_count": null,
      "metadata": {
        "colab": {
          "base_uri": "https://localhost:8080/",
          "height": 143
        },
        "id": "iRkdp04Z2rLB",
        "outputId": "b77e2ea0-ecd5-4e08-95ae-282586460ff9"
      },
      "outputs": [
        {
          "output_type": "execute_result",
          "data": {
            "text/plain": [
              "            RandomForestRegressor AdaBoostRegressor GradientBoostingRegressor\n",
              "Features 4               0.970661           0.92026                  0.966194\n",
              "Features 8               0.958215         -3.000861                  0.955383\n",
              "Features 12              0.954324          0.529333                  0.951459"
            ],
            "text/html": [
              "\n",
              "  <div id=\"df-fc8295f4-d31c-4a2d-ade3-12ee9652d4c6\">\n",
              "    <div class=\"colab-df-container\">\n",
              "      <div>\n",
              "<style scoped>\n",
              "    .dataframe tbody tr th:only-of-type {\n",
              "        vertical-align: middle;\n",
              "    }\n",
              "\n",
              "    .dataframe tbody tr th {\n",
              "        vertical-align: top;\n",
              "    }\n",
              "\n",
              "    .dataframe thead th {\n",
              "        text-align: right;\n",
              "    }\n",
              "</style>\n",
              "<table border=\"1\" class=\"dataframe\">\n",
              "  <thead>\n",
              "    <tr style=\"text-align: right;\">\n",
              "      <th></th>\n",
              "      <th>RandomForestRegressor</th>\n",
              "      <th>AdaBoostRegressor</th>\n",
              "      <th>GradientBoostingRegressor</th>\n",
              "    </tr>\n",
              "  </thead>\n",
              "  <tbody>\n",
              "    <tr>\n",
              "      <th>Features 4</th>\n",
              "      <td>0.970661</td>\n",
              "      <td>0.92026</td>\n",
              "      <td>0.966194</td>\n",
              "    </tr>\n",
              "    <tr>\n",
              "      <th>Features 8</th>\n",
              "      <td>0.958215</td>\n",
              "      <td>-3.000861</td>\n",
              "      <td>0.955383</td>\n",
              "    </tr>\n",
              "    <tr>\n",
              "      <th>Features 12</th>\n",
              "      <td>0.954324</td>\n",
              "      <td>0.529333</td>\n",
              "      <td>0.951459</td>\n",
              "    </tr>\n",
              "  </tbody>\n",
              "</table>\n",
              "</div>\n",
              "      <button class=\"colab-df-convert\" onclick=\"convertToInteractive('df-fc8295f4-d31c-4a2d-ade3-12ee9652d4c6')\"\n",
              "              title=\"Convert this dataframe to an interactive table.\"\n",
              "              style=\"display:none;\">\n",
              "        \n",
              "  <svg xmlns=\"http://www.w3.org/2000/svg\" height=\"24px\"viewBox=\"0 0 24 24\"\n",
              "       width=\"24px\">\n",
              "    <path d=\"M0 0h24v24H0V0z\" fill=\"none\"/>\n",
              "    <path d=\"M18.56 5.44l.94 2.06.94-2.06 2.06-.94-2.06-.94-.94-2.06-.94 2.06-2.06.94zm-11 1L8.5 8.5l.94-2.06 2.06-.94-2.06-.94L8.5 2.5l-.94 2.06-2.06.94zm10 10l.94 2.06.94-2.06 2.06-.94-2.06-.94-.94-2.06-.94 2.06-2.06.94z\"/><path d=\"M17.41 7.96l-1.37-1.37c-.4-.4-.92-.59-1.43-.59-.52 0-1.04.2-1.43.59L10.3 9.45l-7.72 7.72c-.78.78-.78 2.05 0 2.83L4 21.41c.39.39.9.59 1.41.59.51 0 1.02-.2 1.41-.59l7.78-7.78 2.81-2.81c.8-.78.8-2.07 0-2.86zM5.41 20L4 18.59l7.72-7.72 1.47 1.35L5.41 20z\"/>\n",
              "  </svg>\n",
              "      </button>\n",
              "      \n",
              "  <style>\n",
              "    .colab-df-container {\n",
              "      display:flex;\n",
              "      flex-wrap:wrap;\n",
              "      gap: 12px;\n",
              "    }\n",
              "\n",
              "    .colab-df-convert {\n",
              "      background-color: #E8F0FE;\n",
              "      border: none;\n",
              "      border-radius: 50%;\n",
              "      cursor: pointer;\n",
              "      display: none;\n",
              "      fill: #1967D2;\n",
              "      height: 32px;\n",
              "      padding: 0 0 0 0;\n",
              "      width: 32px;\n",
              "    }\n",
              "\n",
              "    .colab-df-convert:hover {\n",
              "      background-color: #E2EBFA;\n",
              "      box-shadow: 0px 1px 2px rgba(60, 64, 67, 0.3), 0px 1px 3px 1px rgba(60, 64, 67, 0.15);\n",
              "      fill: #174EA6;\n",
              "    }\n",
              "\n",
              "    [theme=dark] .colab-df-convert {\n",
              "      background-color: #3B4455;\n",
              "      fill: #D2E3FC;\n",
              "    }\n",
              "\n",
              "    [theme=dark] .colab-df-convert:hover {\n",
              "      background-color: #434B5C;\n",
              "      box-shadow: 0px 1px 3px 1px rgba(0, 0, 0, 0.15);\n",
              "      filter: drop-shadow(0px 1px 2px rgba(0, 0, 0, 0.3));\n",
              "      fill: #FFFFFF;\n",
              "    }\n",
              "  </style>\n",
              "\n",
              "      <script>\n",
              "        const buttonEl =\n",
              "          document.querySelector('#df-fc8295f4-d31c-4a2d-ade3-12ee9652d4c6 button.colab-df-convert');\n",
              "        buttonEl.style.display =\n",
              "          google.colab.kernel.accessAllowed ? 'block' : 'none';\n",
              "\n",
              "        async function convertToInteractive(key) {\n",
              "          const element = document.querySelector('#df-fc8295f4-d31c-4a2d-ade3-12ee9652d4c6');\n",
              "          const dataTable =\n",
              "            await google.colab.kernel.invokeFunction('convertToInteractive',\n",
              "                                                     [key], {});\n",
              "          if (!dataTable) return;\n",
              "\n",
              "          const docLinkHtml = 'Like what you see? Visit the ' +\n",
              "            '<a target=\"_blank\" href=https://colab.research.google.com/notebooks/data_table.ipynb>data table notebook</a>'\n",
              "            + ' to learn more about interactive tables.';\n",
              "          element.innerHTML = '';\n",
              "          dataTable['output_type'] = 'display_data';\n",
              "          await google.colab.output.renderOutput(dataTable, element);\n",
              "          const docLink = document.createElement('div');\n",
              "          docLink.innerHTML = docLinkHtml;\n",
              "          element.appendChild(docLink);\n",
              "        }\n",
              "      </script>\n",
              "    </div>\n",
              "  </div>\n",
              "  "
            ]
          },
          "metadata": {},
          "execution_count": 15
        }
      ],
      "source": [
        "resultdf1 = pd.DataFrame(index=[\"Features 4\",\"Features 8\",\"Features 12\"], columns=[\n",
        "    \"RandomForestRegressor\", \"AdaBoostRegressor\", \"GradientBoostingRegressor\"])\n",
        "param = {'n_estimators': 1000}\n",
        "    \n",
        "for i in range(resultdf1.shape[0]):\n",
        "\n",
        "    #RandomForest\n",
        "    model1 = RandomForestRegressor(**param)\n",
        "    model1.fit(X_train_list[i], y_train_list[i].values.ravel())\n",
        "    y_pred = model1.predict(X_test_list[i])\n",
        "    resultdf1.iloc[i, 0] = r2_score(y_pred, y_test_list[i])\n",
        "\n",
        "    #Adaboost\n",
        "    model2 = AdaBoostRegressor(**param)\n",
        "    model2.fit(X_train_list[i], y_train_list[i].values.ravel())\n",
        "    y_pred = model2.predict(X_test_list[i])\n",
        "    resultdf1.iloc[i, 1] = r2_score(y_pred, y_test_list[i])\n",
        "\n",
        "    #GradientBoosting\n",
        "    model3 = GradientBoostingRegressor(**param)\n",
        "    model3.fit(X_train_list[i], y_train_list[i].values.ravel())\n",
        "    y_pred = model3.predict(X_test_list[i])\n",
        "    resultdf1.iloc[i, 2] = r2_score(y_pred, y_test_list[i])\n",
        "\n",
        "resultdf1.to_excel(\"three-models.xlsx\")\n",
        "\n",
        "resultdf1\n"
      ]
    },
    {
      "cell_type": "markdown",
      "metadata": {
        "id": "mJKcUMeANvcr"
      },
      "source": [
        "----------------------------------------------------------------------"
      ]
    },
    {
      "cell_type": "markdown",
      "metadata": {
        "id": "x3D2Ci-cNy9R"
      },
      "source": [
        "------------------------------------------------"
      ]
    },
    {
      "cell_type": "markdown",
      "metadata": {
        "id": "B_1LIcsTFil4"
      },
      "source": [
        "Voting regressor"
      ]
    },
    {
      "cell_type": "code",
      "execution_count": null,
      "metadata": {
        "colab": {
          "base_uri": "https://localhost:8080/",
          "height": 143
        },
        "id": "Js1P2BVEFnTS",
        "outputId": "90d0fd83-d62b-410b-84f3-987e40f3bd35"
      },
      "outputs": [
        {
          "output_type": "execute_result",
          "data": {
            "text/plain": [
              "            Vote(RF+GB) Vote(AD+RF) Vote(GB+AD) Vote(RF+GB+AD)\n",
              "Features 4     0.970105    0.953286    0.952509       0.962881\n",
              "Features 8     0.958397   -0.141171    0.307672        0.95433\n",
              "Features 12    0.954647    0.942373    0.947047       0.748402"
            ],
            "text/html": [
              "\n",
              "  <div id=\"df-3665cc9e-0335-4dec-aa71-d974a1a3eaad\">\n",
              "    <div class=\"colab-df-container\">\n",
              "      <div>\n",
              "<style scoped>\n",
              "    .dataframe tbody tr th:only-of-type {\n",
              "        vertical-align: middle;\n",
              "    }\n",
              "\n",
              "    .dataframe tbody tr th {\n",
              "        vertical-align: top;\n",
              "    }\n",
              "\n",
              "    .dataframe thead th {\n",
              "        text-align: right;\n",
              "    }\n",
              "</style>\n",
              "<table border=\"1\" class=\"dataframe\">\n",
              "  <thead>\n",
              "    <tr style=\"text-align: right;\">\n",
              "      <th></th>\n",
              "      <th>Vote(RF+GB)</th>\n",
              "      <th>Vote(AD+RF)</th>\n",
              "      <th>Vote(GB+AD)</th>\n",
              "      <th>Vote(RF+GB+AD)</th>\n",
              "    </tr>\n",
              "  </thead>\n",
              "  <tbody>\n",
              "    <tr>\n",
              "      <th>Features 4</th>\n",
              "      <td>0.970105</td>\n",
              "      <td>0.953286</td>\n",
              "      <td>0.952509</td>\n",
              "      <td>0.962881</td>\n",
              "    </tr>\n",
              "    <tr>\n",
              "      <th>Features 8</th>\n",
              "      <td>0.958397</td>\n",
              "      <td>-0.141171</td>\n",
              "      <td>0.307672</td>\n",
              "      <td>0.95433</td>\n",
              "    </tr>\n",
              "    <tr>\n",
              "      <th>Features 12</th>\n",
              "      <td>0.954647</td>\n",
              "      <td>0.942373</td>\n",
              "      <td>0.947047</td>\n",
              "      <td>0.748402</td>\n",
              "    </tr>\n",
              "  </tbody>\n",
              "</table>\n",
              "</div>\n",
              "      <button class=\"colab-df-convert\" onclick=\"convertToInteractive('df-3665cc9e-0335-4dec-aa71-d974a1a3eaad')\"\n",
              "              title=\"Convert this dataframe to an interactive table.\"\n",
              "              style=\"display:none;\">\n",
              "        \n",
              "  <svg xmlns=\"http://www.w3.org/2000/svg\" height=\"24px\"viewBox=\"0 0 24 24\"\n",
              "       width=\"24px\">\n",
              "    <path d=\"M0 0h24v24H0V0z\" fill=\"none\"/>\n",
              "    <path d=\"M18.56 5.44l.94 2.06.94-2.06 2.06-.94-2.06-.94-.94-2.06-.94 2.06-2.06.94zm-11 1L8.5 8.5l.94-2.06 2.06-.94-2.06-.94L8.5 2.5l-.94 2.06-2.06.94zm10 10l.94 2.06.94-2.06 2.06-.94-2.06-.94-.94-2.06-.94 2.06-2.06.94z\"/><path d=\"M17.41 7.96l-1.37-1.37c-.4-.4-.92-.59-1.43-.59-.52 0-1.04.2-1.43.59L10.3 9.45l-7.72 7.72c-.78.78-.78 2.05 0 2.83L4 21.41c.39.39.9.59 1.41.59.51 0 1.02-.2 1.41-.59l7.78-7.78 2.81-2.81c.8-.78.8-2.07 0-2.86zM5.41 20L4 18.59l7.72-7.72 1.47 1.35L5.41 20z\"/>\n",
              "  </svg>\n",
              "      </button>\n",
              "      \n",
              "  <style>\n",
              "    .colab-df-container {\n",
              "      display:flex;\n",
              "      flex-wrap:wrap;\n",
              "      gap: 12px;\n",
              "    }\n",
              "\n",
              "    .colab-df-convert {\n",
              "      background-color: #E8F0FE;\n",
              "      border: none;\n",
              "      border-radius: 50%;\n",
              "      cursor: pointer;\n",
              "      display: none;\n",
              "      fill: #1967D2;\n",
              "      height: 32px;\n",
              "      padding: 0 0 0 0;\n",
              "      width: 32px;\n",
              "    }\n",
              "\n",
              "    .colab-df-convert:hover {\n",
              "      background-color: #E2EBFA;\n",
              "      box-shadow: 0px 1px 2px rgba(60, 64, 67, 0.3), 0px 1px 3px 1px rgba(60, 64, 67, 0.15);\n",
              "      fill: #174EA6;\n",
              "    }\n",
              "\n",
              "    [theme=dark] .colab-df-convert {\n",
              "      background-color: #3B4455;\n",
              "      fill: #D2E3FC;\n",
              "    }\n",
              "\n",
              "    [theme=dark] .colab-df-convert:hover {\n",
              "      background-color: #434B5C;\n",
              "      box-shadow: 0px 1px 3px 1px rgba(0, 0, 0, 0.15);\n",
              "      filter: drop-shadow(0px 1px 2px rgba(0, 0, 0, 0.3));\n",
              "      fill: #FFFFFF;\n",
              "    }\n",
              "  </style>\n",
              "\n",
              "      <script>\n",
              "        const buttonEl =\n",
              "          document.querySelector('#df-3665cc9e-0335-4dec-aa71-d974a1a3eaad button.colab-df-convert');\n",
              "        buttonEl.style.display =\n",
              "          google.colab.kernel.accessAllowed ? 'block' : 'none';\n",
              "\n",
              "        async function convertToInteractive(key) {\n",
              "          const element = document.querySelector('#df-3665cc9e-0335-4dec-aa71-d974a1a3eaad');\n",
              "          const dataTable =\n",
              "            await google.colab.kernel.invokeFunction('convertToInteractive',\n",
              "                                                     [key], {});\n",
              "          if (!dataTable) return;\n",
              "\n",
              "          const docLinkHtml = 'Like what you see? Visit the ' +\n",
              "            '<a target=\"_blank\" href=https://colab.research.google.com/notebooks/data_table.ipynb>data table notebook</a>'\n",
              "            + ' to learn more about interactive tables.';\n",
              "          element.innerHTML = '';\n",
              "          dataTable['output_type'] = 'display_data';\n",
              "          await google.colab.output.renderOutput(dataTable, element);\n",
              "          const docLink = document.createElement('div');\n",
              "          docLink.innerHTML = docLinkHtml;\n",
              "          element.appendChild(docLink);\n",
              "        }\n",
              "      </script>\n",
              "    </div>\n",
              "  </div>\n",
              "  "
            ]
          },
          "metadata": {},
          "execution_count": 16
        }
      ],
      "source": [
        "resultdf2 = pd.DataFrame(index=[\"Features 4\",\"Features 8\",\"Features 12\"], columns=[\n",
        "    \"Vote(RF+GB)\", \"Vote(AD+RF)\", \"Vote(GB+AD)\", \"Vote(RF+GB+AD)\"])\n",
        "resultdf2.head(4)\n",
        "\n",
        "param = {'n_estimators': 1000}\n",
        "\n",
        "for i in range(resultdf2.shape[0]):\n",
        "\n",
        "\n",
        "#-----------------------------------------------------------------------------#\n",
        "    #RandomForest + GradientBoosting\n",
        "    estimators = [('rf', RandomForestRegressor(**param)),\n",
        "                  ('gb', GradientBoostingRegressor(**param))]\n",
        "    model1 = VotingRegressor(estimators=estimators)\n",
        "    model1.fit(X_train_list[i], y_train_list[i].values.ravel())\n",
        "    y_pred = model1.predict(X_test_list[i])\n",
        "    resultdf2.iloc[i, 0] = r2_score(y_pred, y_test_list[i])\n",
        "\n",
        "#-----------------------------------------------------------------------------#\n",
        "    #Adaboost + RandomForest\n",
        "    estimators = [('ad', AdaBoostRegressor(**param)),\n",
        "                  ('rf', RandomForestRegressor(**param))]\n",
        "    model2 = VotingRegressor(estimators=estimators)\n",
        "    model2.fit(X_train_list[i], y_train_list[i].values.ravel())\n",
        "    y_pred = model2.predict(X_test_list[i])\n",
        "    resultdf2.iloc[i, 1] = r2_score(y_pred, y_test_list[i])\n",
        "\n",
        "#-----------------------------------------------------------------------------#\n",
        "    #GradientBoosting + Adaboost\n",
        "    estimators = [('gb', GradientBoostingRegressor(**param)),\n",
        "                  ('ad', AdaBoostRegressor(**param))]\n",
        "    model3 = VotingRegressor(estimators=estimators)\n",
        "    model3.fit(X_train_list[i], y_train_list[i].values.ravel())\n",
        "    y_pred = model3.predict(X_test_list[i])\n",
        "    resultdf2.iloc[i, 2] = r2_score(y_pred, y_test_list[i])\n",
        "\n",
        "#-----------------------------------------------------------------------------#\n",
        "    #RandomForest + GradientBoosting + Adaboost\n",
        "    estimators = [('rf', RandomForestRegressor(**param)),\n",
        "                  ('gb', GradientBoostingRegressor(**param)),\n",
        "                  ('ad', AdaBoostRegressor(**param))]\n",
        "\n",
        "    model4 = VotingRegressor(estimators=estimators)\n",
        "    model4.fit(X_train_list[i], y_train_list[i].values.ravel())\n",
        "    y_pred = model4.predict(X_test_list[i])\n",
        "    resultdf2.iloc[i, 3] = r2_score(y_pred, y_test_list[i])\n",
        "\n",
        "resultdf2.to_excel(\"Voting.xlsx\")\n",
        "resultdf2\n"
      ]
    },
    {
      "cell_type": "markdown",
      "metadata": {
        "id": "o_X7TiDRa4u-"
      },
      "source": [
        "----------------------------------------------------------------------"
      ]
    },
    {
      "cell_type": "markdown",
      "metadata": {
        "id": "YqdTWIk5a60X"
      },
      "source": [
        "----------------------------------------------------------------------"
      ]
    },
    {
      "cell_type": "markdown",
      "metadata": {
        "id": "stcOxL4fbGyr"
      },
      "source": [
        "StackingRegressor"
      ]
    },
    {
      "cell_type": "code",
      "execution_count": null,
      "metadata": {
        "colab": {
          "base_uri": "https://localhost:8080/",
          "height": 143
        },
        "id": "s65h6xmNaWFH",
        "outputId": "9db4b4a3-e620-46de-bfb0-ee705ca376b4"
      },
      "outputs": [
        {
          "output_type": "execute_result",
          "data": {
            "text/plain": [
              "            Stack(RF+GB) Stack(AD+RF) Stack(GB+AD) Stack(RF+GB+AD)\n",
              "Features 4      0.970244     0.970049     0.966471        0.970024\n",
              "Features 8      0.958609     0.959546     0.957037        0.959735\n",
              "Features 12     0.955438     0.955198     0.945147        0.955307"
            ],
            "text/html": [
              "\n",
              "  <div id=\"df-29ea1d09-1839-4f5e-af51-855dbe01ac4c\">\n",
              "    <div class=\"colab-df-container\">\n",
              "      <div>\n",
              "<style scoped>\n",
              "    .dataframe tbody tr th:only-of-type {\n",
              "        vertical-align: middle;\n",
              "    }\n",
              "\n",
              "    .dataframe tbody tr th {\n",
              "        vertical-align: top;\n",
              "    }\n",
              "\n",
              "    .dataframe thead th {\n",
              "        text-align: right;\n",
              "    }\n",
              "</style>\n",
              "<table border=\"1\" class=\"dataframe\">\n",
              "  <thead>\n",
              "    <tr style=\"text-align: right;\">\n",
              "      <th></th>\n",
              "      <th>Stack(RF+GB)</th>\n",
              "      <th>Stack(AD+RF)</th>\n",
              "      <th>Stack(GB+AD)</th>\n",
              "      <th>Stack(RF+GB+AD)</th>\n",
              "    </tr>\n",
              "  </thead>\n",
              "  <tbody>\n",
              "    <tr>\n",
              "      <th>Features 4</th>\n",
              "      <td>0.970244</td>\n",
              "      <td>0.970049</td>\n",
              "      <td>0.966471</td>\n",
              "      <td>0.970024</td>\n",
              "    </tr>\n",
              "    <tr>\n",
              "      <th>Features 8</th>\n",
              "      <td>0.958609</td>\n",
              "      <td>0.959546</td>\n",
              "      <td>0.957037</td>\n",
              "      <td>0.959735</td>\n",
              "    </tr>\n",
              "    <tr>\n",
              "      <th>Features 12</th>\n",
              "      <td>0.955438</td>\n",
              "      <td>0.955198</td>\n",
              "      <td>0.945147</td>\n",
              "      <td>0.955307</td>\n",
              "    </tr>\n",
              "  </tbody>\n",
              "</table>\n",
              "</div>\n",
              "      <button class=\"colab-df-convert\" onclick=\"convertToInteractive('df-29ea1d09-1839-4f5e-af51-855dbe01ac4c')\"\n",
              "              title=\"Convert this dataframe to an interactive table.\"\n",
              "              style=\"display:none;\">\n",
              "        \n",
              "  <svg xmlns=\"http://www.w3.org/2000/svg\" height=\"24px\"viewBox=\"0 0 24 24\"\n",
              "       width=\"24px\">\n",
              "    <path d=\"M0 0h24v24H0V0z\" fill=\"none\"/>\n",
              "    <path d=\"M18.56 5.44l.94 2.06.94-2.06 2.06-.94-2.06-.94-.94-2.06-.94 2.06-2.06.94zm-11 1L8.5 8.5l.94-2.06 2.06-.94-2.06-.94L8.5 2.5l-.94 2.06-2.06.94zm10 10l.94 2.06.94-2.06 2.06-.94-2.06-.94-.94-2.06-.94 2.06-2.06.94z\"/><path d=\"M17.41 7.96l-1.37-1.37c-.4-.4-.92-.59-1.43-.59-.52 0-1.04.2-1.43.59L10.3 9.45l-7.72 7.72c-.78.78-.78 2.05 0 2.83L4 21.41c.39.39.9.59 1.41.59.51 0 1.02-.2 1.41-.59l7.78-7.78 2.81-2.81c.8-.78.8-2.07 0-2.86zM5.41 20L4 18.59l7.72-7.72 1.47 1.35L5.41 20z\"/>\n",
              "  </svg>\n",
              "      </button>\n",
              "      \n",
              "  <style>\n",
              "    .colab-df-container {\n",
              "      display:flex;\n",
              "      flex-wrap:wrap;\n",
              "      gap: 12px;\n",
              "    }\n",
              "\n",
              "    .colab-df-convert {\n",
              "      background-color: #E8F0FE;\n",
              "      border: none;\n",
              "      border-radius: 50%;\n",
              "      cursor: pointer;\n",
              "      display: none;\n",
              "      fill: #1967D2;\n",
              "      height: 32px;\n",
              "      padding: 0 0 0 0;\n",
              "      width: 32px;\n",
              "    }\n",
              "\n",
              "    .colab-df-convert:hover {\n",
              "      background-color: #E2EBFA;\n",
              "      box-shadow: 0px 1px 2px rgba(60, 64, 67, 0.3), 0px 1px 3px 1px rgba(60, 64, 67, 0.15);\n",
              "      fill: #174EA6;\n",
              "    }\n",
              "\n",
              "    [theme=dark] .colab-df-convert {\n",
              "      background-color: #3B4455;\n",
              "      fill: #D2E3FC;\n",
              "    }\n",
              "\n",
              "    [theme=dark] .colab-df-convert:hover {\n",
              "      background-color: #434B5C;\n",
              "      box-shadow: 0px 1px 3px 1px rgba(0, 0, 0, 0.15);\n",
              "      filter: drop-shadow(0px 1px 2px rgba(0, 0, 0, 0.3));\n",
              "      fill: #FFFFFF;\n",
              "    }\n",
              "  </style>\n",
              "\n",
              "      <script>\n",
              "        const buttonEl =\n",
              "          document.querySelector('#df-29ea1d09-1839-4f5e-af51-855dbe01ac4c button.colab-df-convert');\n",
              "        buttonEl.style.display =\n",
              "          google.colab.kernel.accessAllowed ? 'block' : 'none';\n",
              "\n",
              "        async function convertToInteractive(key) {\n",
              "          const element = document.querySelector('#df-29ea1d09-1839-4f5e-af51-855dbe01ac4c');\n",
              "          const dataTable =\n",
              "            await google.colab.kernel.invokeFunction('convertToInteractive',\n",
              "                                                     [key], {});\n",
              "          if (!dataTable) return;\n",
              "\n",
              "          const docLinkHtml = 'Like what you see? Visit the ' +\n",
              "            '<a target=\"_blank\" href=https://colab.research.google.com/notebooks/data_table.ipynb>data table notebook</a>'\n",
              "            + ' to learn more about interactive tables.';\n",
              "          element.innerHTML = '';\n",
              "          dataTable['output_type'] = 'display_data';\n",
              "          await google.colab.output.renderOutput(dataTable, element);\n",
              "          const docLink = document.createElement('div');\n",
              "          docLink.innerHTML = docLinkHtml;\n",
              "          element.appendChild(docLink);\n",
              "        }\n",
              "      </script>\n",
              "    </div>\n",
              "  </div>\n",
              "  "
            ]
          },
          "metadata": {},
          "execution_count": 17
        }
      ],
      "source": [
        "resultdf3 = pd.DataFrame(index=[\"Features 4\",\"Features 8\",\"Features 12\"], columns=[\n",
        "    \"Stack(RF+GB)\", \"Stack(AD+RF)\", \"Stack(GB+AD)\", \"Stack(RF+GB+AD)\"])\n",
        "resultdf3.head(4)\n",
        "\n",
        "param = {'n_estimators': 1000}\n",
        "\n",
        "for i in range(resultdf3.shape[0]):\n",
        "\n",
        "\n",
        "#-----------------------------------------------------------------------------#\n",
        "    #RandomForest + GradientBoosting\n",
        "    estimators = [('rf', RandomForestRegressor(**param)),\n",
        "                  ('gb', GradientBoostingRegressor(**param))]\n",
        "    model1 = StackingRegressor(estimators=estimators)\n",
        "    model1.fit(X_train_list[i], y_train_list[i].values.ravel())\n",
        "    y_pred = model1.predict(X_test_list[i])\n",
        "    resultdf3.iloc[i, 0] = r2_score(y_pred, y_test_list[i])\n",
        "\n",
        "#-----------------------------------------------------------------------------#\n",
        "    #Adaboost + RandomForest\n",
        "    estimators = [('ad', AdaBoostRegressor(**param)),\n",
        "                  ('rf', RandomForestRegressor(**param))]\n",
        "    model2 = StackingRegressor(estimators=estimators)\n",
        "    model2.fit(X_train_list[i], y_train_list[i].values.ravel())\n",
        "    y_pred = model2.predict(X_test_list[i])\n",
        "    resultdf3.iloc[i, 1] = r2_score(y_pred, y_test_list[i])\n",
        "\n",
        "#-----------------------------------------------------------------------------#\n",
        "    #GradientBoosting + Adaboost\n",
        "    estimators = [('gb', GradientBoostingRegressor(**param)),\n",
        "                  ('ad', AdaBoostRegressor(**param))]\n",
        "    model3 = StackingRegressor(estimators=estimators)\n",
        "    model3.fit(X_train_list[i], y_train_list[i].values.ravel())\n",
        "    y_pred = model3.predict(X_test_list[i])\n",
        "    resultdf3.iloc[i, 2] = r2_score(y_pred, y_test_list[i])\n",
        "\n",
        "#-----------------------------------------------------------------------------#\n",
        "    #RandomForest + GradientBoosting + Adaboost\n",
        "    estimators = [('rf', RandomForestRegressor(**param)),\n",
        "                  ('gb', GradientBoostingRegressor(**param)),\n",
        "                  ('ad', AdaBoostRegressor(**param))]\n",
        "\n",
        "    model4 = StackingRegressor(estimators=estimators)\n",
        "    model4.fit(X_train_list[i], y_train_list[i].values.ravel())\n",
        "    y_pred = model4.predict(X_test_list[i])\n",
        "    resultdf3.iloc[i, 3] = r2_score(y_pred, y_test_list[i])\n",
        "\n",
        "resultdf3.to_excel(\"Stacking.xlsx\")\n",
        "resultdf3"
      ]
    },
    {
      "cell_type": "markdown",
      "source": [
        "-----------------------------------------"
      ],
      "metadata": {
        "id": "B4QkjdW287Uh"
      }
    },
    {
      "cell_type": "markdown",
      "source": [
        "----------------------------"
      ],
      "metadata": {
        "id": "Xp7dnaMs86Ao"
      }
    }
  ],
  "metadata": {
    "accelerator": "GPU",
    "colab": {
      "collapsed_sections": [],
      "name": "Final_Prediction.ipynb",
      "provenance": []
    },
    "gpuClass": "standard",
    "kernelspec": {
      "display_name": "Python 3.8.8 ('base')",
      "language": "python",
      "name": "python3"
    },
    "language_info": {
      "codemirror_mode": {
        "name": "ipython",
        "version": 3
      },
      "file_extension": ".py",
      "mimetype": "text/x-python",
      "name": "python",
      "nbconvert_exporter": "python",
      "pygments_lexer": "ipython3",
      "version": "3.8.8"
    },
    "orig_nbformat": 4,
    "vscode": {
      "interpreter": {
        "hash": "71e8cfb4fa7503531b09662d328692e276cb2fc431aa06ec7f369d24f1dcf48a"
      }
    }
  },
  "nbformat": 4,
  "nbformat_minor": 0
}